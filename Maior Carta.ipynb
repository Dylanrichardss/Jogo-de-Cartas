{
 "cells": [
  {
   "cell_type": "code",
   "execution_count": 11,
   "metadata": {},
   "outputs": [],
   "source": [
    "import requests\n",
    "from IPython.display import Image, display, HTML"
   ]
  },
  {
   "cell_type": "code",
   "execution_count": 2,
   "metadata": {},
   "outputs": [],
   "source": [
    "def criar_baralho():\n",
    "    baralho = requests.get('https://deckofcardsapi.com/api/deck/new/shuffle/?deck_count=1')\n",
    "    baralho=baralho.json()\n",
    "    baralho=baralho['deck_id']\n",
    "    return baralho\n",
    "id_baralho= criar_baralho()"
   ]
  },
  {
   "cell_type": "code",
   "execution_count": 3,
   "metadata": {},
   "outputs": [],
   "source": [
    "def valor_carta_ajustado(valor_carta_ingles):\n",
    "    match valor_carta_ingles:\n",
    "        case \"ACE\":\n",
    "            return \"Ás\"\n",
    "        case \"KING\":\n",
    "            return \"Rei\"\n",
    "        case \"QUEEN\":\n",
    "            return \"Dama\"\n",
    "        case \"JACK\":\n",
    "            return \"Valete\"\n",
    "        case _:\n",
    "            return valor_carta_ingles"
   ]
  },
  {
   "cell_type": "code",
   "execution_count": 4,
   "metadata": {},
   "outputs": [],
   "source": [
    "def naipe_ajustado(naipe_ingles):\n",
    "    match naipe_ingles:\n",
    "        case \"DIAMONDS\":\n",
    "            return \"Ouro\"\n",
    "        case \"CLUBS\":\n",
    "            return \"Paus\"\n",
    "        case \"HEARTS\":\n",
    "            return \"Coração\"\n",
    "        case \"SPADES\":\n",
    "            return \"Espada\"\n",
    "        case _:\n",
    "            return naipe_ingles\n"
   ]
  },
  {
   "cell_type": "code",
   "execution_count": 5,
   "metadata": {},
   "outputs": [],
   "source": [
    "def comprar_carta(codigo_baralho):\n",
    "    carta = requests.get(f'https://deckofcardsapi.com/api/deck/{codigo_baralho}/draw/?count=1')\n",
    "    carta = carta.json()\n",
    "    carta = carta['cards'][0]\n",
    "\n",
    "    valor_carta = str(valor_carta_ajustado(carta['value']))\n",
    "    naipe = naipe_ajustado(carta['suit'])\n",
    "    imagem = carta['image']\n",
    "    codigo_carta = carta['code']\n",
    "    #imagem = Image(url=carta['image'])\n",
    "    return valor_carta,naipe,imagem,codigo_carta"
   ]
  },
  {
   "cell_type": "code",
   "execution_count": 22,
   "metadata": {},
   "outputs": [
    {
     "name": "stdout",
     "output_type": "stream",
     "text": [
      "O jogador 1 ganhou\n",
      "\n",
      "Jogador 1: Rei de Espada\n",
      "Jogador 2: 7 de Coração\n"
     ]
    },
    {
     "data": {
      "text/html": [
       "\n",
       "<table>\n",
       "    <tr>\n",
       "        <td><img src=\"https://deckofcardsapi.com/static/img/KS.png\" style=\"width:300px;\"></td>\n",
       "        <td><img src=\"https://deckofcardsapi.com/static/img/7H.png\" style=\"width:300px;\"></td>\n",
       "    </tr>\n",
       "</table>\n"
      ],
      "text/plain": [
       "<IPython.core.display.HTML object>"
      ]
     },
     "metadata": {},
     "output_type": "display_data"
    }
   ],
   "source": [
    "#Jogo simples\n",
    "sequência = {\"1\":1,\"2\":2,\"3\":3,\"4\":4,\"5\":5,\"6\":6,\"7\":7,\"8\":8,\"9\":9,\"10\":10,\"Valete\":11,\"Dama\":12,\"Rei\":13,\"Ás\":14}\n",
    "\n",
    "jogador1 = comprar_carta(id_baralho)\n",
    "jogador2 = comprar_carta(id_baralho)\n",
    "\n",
    "if sequência[jogador1[0]] > sequência[jogador2[0]]:\n",
    "    print(\"O jogador 1 ganhou\")\n",
    "elif sequência[jogador1[0]] < sequência[jogador2[0]]:\n",
    "    print(\"O jogador 2 ganhou\")\n",
    "else:\n",
    "    print(\"Deu empate\")\n",
    "print()\n",
    "\n",
    "print(f\"Jogador 1: {jogador1[0]} de {jogador1[1]}\")\n",
    "print(f\"Jogador 2: {jogador2[0]} de {jogador2[1]}\")\n",
    "display(HTML(f\"\"\"\n",
    "<table>\n",
    "    <tr>\n",
    "        <td><img src=\"{jogador1[2]}\" style=\"width:300px;\"></td>\n",
    "        <td><img src=\"{jogador2[2]}\" style=\"width:300px;\"></td>\n",
    "    </tr>\n",
    "</table>\n",
    "\"\"\"))\n"
   ]
  }
 ],
 "metadata": {
  "kernelspec": {
   "display_name": "Python 3",
   "language": "python",
   "name": "python3"
  },
  "language_info": {
   "codemirror_mode": {
    "name": "ipython",
    "version": 3
   },
   "file_extension": ".py",
   "mimetype": "text/x-python",
   "name": "python",
   "nbconvert_exporter": "python",
   "pygments_lexer": "ipython3",
   "version": "3.13.1"
  }
 },
 "nbformat": 4,
 "nbformat_minor": 2
}
